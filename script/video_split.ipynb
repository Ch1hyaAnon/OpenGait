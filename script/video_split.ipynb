{
 "cells": [
  {
   "metadata": {
    "ExecuteTime": {
     "end_time": "2025-09-08T02:36:20.302381Z",
     "start_time": "2025-09-08T02:36:20.255865Z"
    }
   },
   "cell_type": "code",
   "source": [
    "import cv2\n",
    "import os\n",
    "\n",
    "video_path = '../sample/video/sample.avi'\n",
    "output_dir = '../sample/fig'\n",
    "\n",
    "if not os.path.exists(output_dir):\n",
    "    os.makedirs(output_dir)\n",
    "\n",
    "cap = cv2.VideoCapture(video_path)\n",
    "frame_idx = 0\n",
    "while cap.isOpened():\n",
    "    ret, frame = cap.read()\n",
    "    if not ret:\n",
    "        break\n",
    "    frame_path = os.path.join(output_dir, f'frame_{frame_idx:05d}.jpg')\n",
    "    cv2.imwrite(frame_path, frame)\n",
    "    frame_idx += 1\n",
    "cap.release()\n",
    "print(f\"共保存 {frame_idx} 帧到 {output_dir}\")\n"
   ],
   "id": "5490a2f3eeff72c2",
   "outputs": [
    {
     "name": "stdout",
     "output_type": "stream",
     "text": [
      "共保存 97 帧到 ../sample/fig\n"
     ]
    }
   ],
   "execution_count": 4
  },
  {
   "metadata": {
    "ExecuteTime": {
     "end_time": "2025-09-08T02:56:17.545140Z",
     "start_time": "2025-09-08T02:56:17.487971Z"
    }
   },
   "cell_type": "code",
   "source": [
    "import cv2\n",
    "import os\n",
    "\n",
    "def avi_to_mp4(avi_path, mp4_path):\n",
    "    # 打开AVI视频文件\n",
    "    cap = cv2.VideoCapture(avi_path)\n",
    "\n",
    "    # 获取视频的基本信息\n",
    "    frame_width = int(cap.get(cv2.CAP_PROP_FRAME_WIDTH))\n",
    "    frame_height = int(cap.get(cv2.CAP_PROP_FRAME_HEIGHT))\n",
    "    fps = cap.get(cv2.CAP_PROP_FPS)\n",
    "\n",
    "    # 定义MP4编码器 (不同平台可能需要调整)\n",
    "    # 'mp4v'是常用的MP4编码器，也可以尝试'h264'等\n",
    "    fourcc = cv2.VideoWriter_fourcc(*'mp4v')\n",
    "\n",
    "    # 创建VideoWriter对象，用于写入MP4文件\n",
    "    out = cv2.VideoWriter(mp4_path, fourcc, fps, (frame_width, frame_height))\n",
    "\n",
    "    # 逐帧读取并写入\n",
    "    while cap.isOpened():\n",
    "        ret, frame = cap.read()\n",
    "        if not ret:\n",
    "            break\n",
    "        out.write(frame)\n",
    "\n",
    "    # 释放资源\n",
    "    cap.release()\n",
    "    out.release()\n",
    "    print(f\"转换完成：{mp4_path}\")\n",
    "\n",
    "# 使用示例\n",
    "if __name__ == \"__main__\":\n",
    "    avi_file = \"../sample/video/sample.avi\"  # 输入AVI文件路径\n",
    "    mp4_file = \"../sample/video/sample.mp4\"  # 输出MP4文件路径\n",
    "\n",
    "    # 确保输出目录存在\n",
    "    output_dir = os.path.dirname(mp4_file)\n",
    "    if not os.path.exists(output_dir):\n",
    "        os.makedirs(output_dir)\n",
    "\n",
    "    avi_to_mp4(avi_file, mp4_file)\n"
   ],
   "id": "e5722aa75876ae40",
   "outputs": [
    {
     "name": "stdout",
     "output_type": "stream",
     "text": [
      "转换完成：../sample/video/sample.mp4\n"
     ]
    }
   ],
   "execution_count": 5
  },
  {
   "metadata": {
    "ExecuteTime": {
     "end_time": "2025-09-08T04:44:01.203103Z",
     "start_time": "2025-09-08T04:44:01.186277Z"
    }
   },
   "cell_type": "code",
   "source": [
    "import pickle\n",
    "\n",
    "# 替换为你的pkl文件路径\n",
    "pkl_file = '../sample/pkl/sample_pred3D.pkl'\n",
    "\n",
    "with open(pkl_file, 'rb') as f:\n",
    "    data = pickle.load(f)\n",
    "\n",
    "print(type(data))\n",
    "print(data)"
   ],
   "id": "450ed2ac3ad71832",
   "outputs": [
    {
     "ename": "ModuleNotFoundError",
     "evalue": "No module named 'numpy._core.numeric'",
     "output_type": "error",
     "traceback": [
      "\u001B[0;31m---------------------------------------------------------------------------\u001B[0m",
      "\u001B[0;31mModuleNotFoundError\u001B[0m                       Traceback (most recent call last)",
      "Cell \u001B[0;32mIn[6], line 7\u001B[0m\n\u001B[1;32m      4\u001B[0m pkl_file \u001B[38;5;241m=\u001B[39m \u001B[38;5;124m'\u001B[39m\u001B[38;5;124m../sample/pkl/sample_pred3D.pkl\u001B[39m\u001B[38;5;124m'\u001B[39m\n\u001B[1;32m      6\u001B[0m \u001B[38;5;28;01mwith\u001B[39;00m \u001B[38;5;28mopen\u001B[39m(pkl_file, \u001B[38;5;124m'\u001B[39m\u001B[38;5;124mrb\u001B[39m\u001B[38;5;124m'\u001B[39m) \u001B[38;5;28;01mas\u001B[39;00m f:\n\u001B[0;32m----> 7\u001B[0m     data \u001B[38;5;241m=\u001B[39m \u001B[43mpickle\u001B[49m\u001B[38;5;241;43m.\u001B[39;49m\u001B[43mload\u001B[49m\u001B[43m(\u001B[49m\u001B[43mf\u001B[49m\u001B[43m)\u001B[49m\n\u001B[1;32m      9\u001B[0m \u001B[38;5;28mprint\u001B[39m(\u001B[38;5;28mtype\u001B[39m(data))\n\u001B[1;32m     10\u001B[0m \u001B[38;5;28mprint\u001B[39m(data)\n",
      "\u001B[0;31mModuleNotFoundError\u001B[0m: No module named 'numpy._core.numeric'"
     ]
    }
   ],
   "execution_count": 6
  }
 ],
 "metadata": {
  "kernelspec": {
   "display_name": "Python 3",
   "language": "python",
   "name": "python3"
  },
  "language_info": {
   "codemirror_mode": {
    "name": "ipython",
    "version": 2
   },
   "file_extension": ".py",
   "mimetype": "text/x-python",
   "name": "python",
   "nbconvert_exporter": "python",
   "pygments_lexer": "ipython2",
   "version": "2.7.6"
  }
 },
 "nbformat": 4,
 "nbformat_minor": 5
}
